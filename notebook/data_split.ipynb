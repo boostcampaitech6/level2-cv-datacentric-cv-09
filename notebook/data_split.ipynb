{
 "cells": [
  {
   "cell_type": "code",
   "execution_count": 26,
   "metadata": {},
   "outputs": [],
   "source": [
    "import json\n",
    "import os\n",
    "\n",
    "from sklearn.model_selection import train_test_split, KFold\n",
    "\n",
    "kfold = KFold(n_splits=5, shuffle=True, random_state=42)\n",
    "\n",
    "def random_split_dataset(root_folder):\n",
    "\n",
    "    with open(os.path.join(root_folder, 'train.json')) as f:\n",
    "        data = json.load(f)\n",
    "\n",
    "    images = list(data['images'].keys())\n",
    "    for idx, (train, val) in enumerate(kfold.split(images)):\n",
    "        train_images = {images[img_id]: data['images'][images[img_id]] for img_id in train}\n",
    "        train_anns = {'images': train_images}\n",
    "        val_images = {images[img_id]: data['images'][images[img_id]] for img_id in val}\n",
    "        val_anns = {'images': val_images}\n",
    "\n",
    "        output_train_path = os.path.join(root_folder, f'train_{idx}.json')\n",
    "        output_valid_path = os.path.join(root_folder, f'val_{idx}.json')\n",
    "\n",
    "        with open(output_train_path, 'w') as f:\n",
    "            json.dump(train_anns, f, indent=4)\n",
    "\n",
    "        with open(output_valid_path, 'w') as f:\n",
    "            json.dump(val_anns, f, indent=4)"
   ]
  },
  {
   "cell_type": "code",
   "execution_count": 27,
   "metadata": {},
   "outputs": [
    {
     "name": "stdout",
     "output_type": "stream",
     "text": [
      "dict_keys(['drp.en_ko.in_house.deepnatural_002411.jpg', 'drp.en_ko.in_house.deepnatural_002451.jpg', 'drp.en_ko.in_house.deepnatural_002496.jpg', 'drp.en_ko.in_house.deepnatural_002514.jpg', 'drp.en_ko.in_house.deepnatural_002555.jpg', 'drp.en_ko.in_house.deepnatural_002710.jpg', 'drp.en_ko.in_house.deepnatural_002924.jpg', 'drp.en_ko.in_house.deepnatural_002930.jpg', 'drp.en_ko.in_house.deepnatural_002994.jpg', 'drp.en_ko.in_house.deepnatural_003088.jpg', 'drp.en_ko.in_house.deepnatural_003215.jpg', 'drp.en_ko.in_house.deepnatural_003234.jpg', 'drp.en_ko.in_house.deepnatural_003347.jpg', 'drp.en_ko.in_house.deepnatural_003525.jpg', 'drp.en_ko.in_house.deepnatural_003650.jpg', 'drp.en_ko.in_house.deepnatural_003743.jpg', 'drp.en_ko.in_house.deepnatural_003762.jpg', 'drp.en_ko.in_house.deepnatural_003778.jpg', 'drp.en_ko.in_house.deepnatural_003786.jpg', 'drp.en_ko.in_house.deepnatural_003850.jpg'])\n",
      "dict_keys(['drp.en_ko.in_house.deepnatural_002469.jpg', 'drp.en_ko.in_house.deepnatural_002491.jpg', 'drp.en_ko.in_house.deepnatural_002508.jpg', 'drp.en_ko.in_house.deepnatural_002539.jpg', 'drp.en_ko.in_house.deepnatural_002544.jpg', 'drp.en_ko.in_house.deepnatural_002830.jpg', 'drp.en_ko.in_house.deepnatural_002850.jpg', 'drp.en_ko.in_house.deepnatural_003000.jpg', 'drp.en_ko.in_house.deepnatural_003089.jpg', 'drp.en_ko.in_house.deepnatural_003150.jpg', 'drp.en_ko.in_house.deepnatural_003252.jpg', 'drp.en_ko.in_house.deepnatural_003377.jpg', 'drp.en_ko.in_house.deepnatural_003486.jpg', 'drp.en_ko.in_house.deepnatural_003499.jpg', 'drp.en_ko.in_house.deepnatural_003517.jpg', 'drp.en_ko.in_house.deepnatural_003645.jpg', 'drp.en_ko.in_house.deepnatural_003797.jpg', 'drp.en_ko.in_house.deepnatural_003819.jpg', 'drp.en_ko.in_house.deepnatural_003903.jpg', 'drp.en_ko.in_house.deepnatural_003951.jpg'])\n",
      "dict_keys(['drp.en_ko.in_house.deepnatural_002441.jpg', 'drp.en_ko.in_house.deepnatural_002474.jpg', 'drp.en_ko.in_house.deepnatural_002479.jpg', 'drp.en_ko.in_house.deepnatural_002485.jpg', 'drp.en_ko.in_house.deepnatural_002520.jpg', 'drp.en_ko.in_house.deepnatural_002553.jpg', 'drp.en_ko.in_house.deepnatural_002624.jpg', 'drp.en_ko.in_house.deepnatural_002755.jpg', 'drp.en_ko.in_house.deepnatural_002803.jpg', 'drp.en_ko.in_house.deepnatural_002836.jpg', 'drp.en_ko.in_house.deepnatural_002997.jpg', 'drp.en_ko.in_house.deepnatural_003015.jpg', 'drp.en_ko.in_house.deepnatural_003078.jpg', 'drp.en_ko.in_house.deepnatural_003270.jpg', 'drp.en_ko.in_house.deepnatural_003416.jpg', 'drp.en_ko.in_house.deepnatural_003435.jpg', 'drp.en_ko.in_house.deepnatural_003765.jpg', 'drp.en_ko.in_house.deepnatural_003784.jpg', 'drp.en_ko.in_house.deepnatural_003847.jpg', 'drp.en_ko.in_house.deepnatural_003932.jpg'])\n",
      "dict_keys(['drp.en_ko.in_house.deepnatural_002992.jpg', 'drp.en_ko.in_house.deepnatural_003099.jpg', 'drp.en_ko.in_house.deepnatural_003166.jpg', 'drp.en_ko.in_house.deepnatural_003249.jpg', 'drp.en_ko.in_house.deepnatural_003262.jpg', 'drp.en_ko.in_house.deepnatural_003273.jpg', 'drp.en_ko.in_house.deepnatural_003374.jpg', 'drp.en_ko.in_house.deepnatural_003395.jpg', 'drp.en_ko.in_house.deepnatural_003399.jpg', 'drp.en_ko.in_house.deepnatural_003402.jpg', 'drp.en_ko.in_house.deepnatural_003407.jpg', 'drp.en_ko.in_house.deepnatural_003410.jpg', 'drp.en_ko.in_house.deepnatural_003501.jpg', 'drp.en_ko.in_house.deepnatural_003502.jpg', 'drp.en_ko.in_house.deepnatural_003729.jpg', 'drp.en_ko.in_house.deepnatural_003773.jpg', 'drp.en_ko.in_house.deepnatural_003904.jpg', 'drp.en_ko.in_house.deepnatural_003958.jpg', 'drp.en_ko.in_house.deepnatural_003976.jpg', 'drp.en_ko.in_house.deepnatural_003979.jpg'])\n",
      "dict_keys(['drp.en_ko.in_house.deepnatural_002418.jpg', 'drp.en_ko.in_house.deepnatural_002432.jpg', 'drp.en_ko.in_house.deepnatural_002528.jpg', 'drp.en_ko.in_house.deepnatural_002628.jpg', 'drp.en_ko.in_house.deepnatural_002638.jpg', 'drp.en_ko.in_house.deepnatural_002754.jpg', 'drp.en_ko.in_house.deepnatural_002869.jpg', 'drp.en_ko.in_house.deepnatural_003075.jpg', 'drp.en_ko.in_house.deepnatural_003335.jpg', 'drp.en_ko.in_house.deepnatural_003345.jpg', 'drp.en_ko.in_house.deepnatural_003408.jpg', 'drp.en_ko.in_house.deepnatural_003423.jpg', 'drp.en_ko.in_house.deepnatural_003599.jpg', 'drp.en_ko.in_house.deepnatural_003669.jpg', 'drp.en_ko.in_house.deepnatural_003785.jpg', 'drp.en_ko.in_house.deepnatural_003787.jpg', 'drp.en_ko.in_house.deepnatural_003801.jpg', 'drp.en_ko.in_house.deepnatural_003811.jpg', 'drp.en_ko.in_house.deepnatural_003881.jpg', 'drp.en_ko.in_house.deepnatural_003893.jpg'])\n"
     ]
    }
   ],
   "source": [
    "random_split_dataset(root_folder='../../data/medical/ufo')"
   ]
  },
  {
   "cell_type": "code",
   "execution_count": null,
   "metadata": {},
   "outputs": [],
   "source": []
  }
 ],
 "metadata": {
  "kernelspec": {
   "display_name": "naver",
   "language": "python",
   "name": "python3"
  },
  "language_info": {
   "codemirror_mode": {
    "name": "ipython",
    "version": 3
   },
   "file_extension": ".py",
   "mimetype": "text/x-python",
   "name": "python",
   "nbconvert_exporter": "python",
   "pygments_lexer": "ipython3",
   "version": "3.10.13"
  }
 },
 "nbformat": 4,
 "nbformat_minor": 2
}

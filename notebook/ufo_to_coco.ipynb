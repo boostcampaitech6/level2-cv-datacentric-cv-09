{
 "cells": [
  {
   "cell_type": "code",
   "execution_count": 12,
   "metadata": {},
   "outputs": [],
   "source": [
    "from typing import Dict\n",
    "import json\n",
    "import datetime\n",
    "\n",
    "now = datetime.datetime.now()\n",
    "now = now.strftime('%Y-%m-%d %H:%M:%S')\n",
    "\n",
    "input_path = '../data/medical/ufo/train.json'\n",
    "output_path = '../data/medical/ufo/train_coco.json'"
   ]
  },
  {
   "cell_type": "code",
   "execution_count": 13,
   "metadata": {},
   "outputs": [],
   "source": [
    "info = {\n",
    "    'year': 2024,\n",
    "    'version': '1.0',\n",
    "    'description': 'OCR Competition Data',\n",
    "    'contributor': 'Naver Boostcamp',\n",
    "    'url': 'https://aistages-api-public-prod.s3.amazonaws.com/app/Competitions/000273/data/data.tar.gz',\n",
    "    'date_created': now\n",
    "}\n",
    "\n",
    "licenses = {\n",
    "    'id': '1',\n",
    "    'name': 'For Naver Boostcamp Competition',\n",
    "    'url': None\n",
    "}\n",
    "\n",
    "categories = [{\n",
    "    'id': 1,\n",
    "    'name': 'word'\n",
    "}]"
   ]
  },
  {
   "cell_type": "code",
   "execution_count": 14,
   "metadata": {},
   "outputs": [],
   "source": [
    "def ufo_to_coco(file: Dict, output_path: str) -> None:\n",
    "    img_id = 1 #COCO는 1부터 시작\n",
    "    annotation_id = 1 #COCO는 1부터 시작\n",
    "    images = []\n",
    "    annotations = []\n",
    "    for fname, data in file.items():\n",
    "        image = {\n",
    "            \"id\": img_id,\n",
    "            \"width\": data['img_w'],\n",
    "            \"height\": data['img_h'],\n",
    "            \"file_name\": fname,\n",
    "            \"license\": 1,\n",
    "            \"flickr_url\": None,\n",
    "            \"coco_url\": None,\n",
    "            \"date_captured\": now\n",
    "        }\n",
    "        images.append(image)\n",
    "        for anno_id, annotation in data['words'].items():\n",
    "            if annotation['illegibility'] == True:\n",
    "                continue\n",
    "            min_x = min(item[0] for item in annotation['points'])\n",
    "            min_y = min(item[1] for item in annotation['points'])\n",
    "            max_x = max(item[0] for item in annotation['points'])\n",
    "            max_y = max(item[1] for item in annotation['points'])\n",
    "            width = max_x - min_x\n",
    "            height = max_y - min_y\n",
    "            coco_annotation = {\n",
    "                \"id\": annotation_id,\n",
    "                \"image_id\": img_id,\n",
    "                \"category_id\": 1,\n",
    "                \"segmentation\": [[value for sublist in annotation['points'] for value in sublist]],\n",
    "                \"area\": width * height,\n",
    "                \"bbox\": [min_x, min_y, width, height],\n",
    "                \"iscrowd\": 0  \n",
    "            }\n",
    "            annotations.append(coco_annotation)\n",
    "            annotation_id += 1\n",
    "        img_id += 1\n",
    "    \n",
    "    coco = {\n",
    "        'info' : info,\n",
    "        'images' : images,\n",
    "        'annotations' : annotations,\n",
    "        'licenses' : licenses,\n",
    "        'categories' : categories\n",
    "    }\n",
    "    \n",
    "    with open(output_path, \"w\") as f:\n",
    "        json.dump(coco, f, indent=4)"
   ]
  },
  {
   "cell_type": "code",
   "execution_count": 15,
   "metadata": {},
   "outputs": [],
   "source": [
    "with open(input_path, 'r') as f:\n",
    "    file = json.load(f)\n",
    "\n",
    "ufo_to_coco(file['images'], output_path)"
   ]
  },
  {
   "cell_type": "code",
   "execution_count": null,
   "metadata": {},
   "outputs": [],
   "source": []
  }
 ],
 "metadata": {
  "kernelspec": {
   "display_name": "naver",
   "language": "python",
   "name": "python3"
  },
  "language_info": {
   "codemirror_mode": {
    "name": "ipython",
    "version": 3
   },
   "file_extension": ".py",
   "mimetype": "text/x-python",
   "name": "python",
   "nbconvert_exporter": "python",
   "pygments_lexer": "ipython3",
   "version": "3.10.13"
  }
 },
 "nbformat": 4,
 "nbformat_minor": 2
}
